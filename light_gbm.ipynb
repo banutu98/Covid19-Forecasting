{
 "cells": [
  {
   "cell_type": "code",
   "execution_count": 15,
   "outputs": [],
   "source": [
    "import os\n",
    "import numpy as np\n",
    "import pandas as pd\n",
    "\n",
    "from lightgbm import LGBMRegressor\n",
    "from sklearn.preprocessing import OrdinalEncoder"
   ],
   "metadata": {
    "collapsed": false,
    "pycharm": {
     "name": "#%%\n",
     "is_executing": false
    }
   }
  },
  {
   "cell_type": "code",
   "execution_count": null,
   "outputs": [],
   "source": [
    "DATA_DIR = 'data'\n",
    "train = pd.read_csv(os.path.join(DATA_DIR, 'train.csv'))\n",
    "test = pd.read_csv(os.path.join(DATA_DIR, 'test.csv'))\n",
    "train['CRPS'] = train.Country_Region + train.Province_State.fillna('')\n",
    "test['CRPS'] = test.Country_Region + test.Province_State.fillna('')"
   ],
   "metadata": {
    "collapsed": false,
    "pycharm": {
     "name": "#%%\n"
    }
   }
  },
  {
   "cell_type": "code",
   "execution_count": null,
   "outputs": [],
   "source": [
    "train['LConfirmedCases'] = np.log1p(train['ConfirmedCases'])\n",
    "train['LFatalities'] = np.log1p(train['Fatalities'])\n",
    "train['LDConfirmedCases'] = train.groupby('CRPS')[['LConfirmedCases']].diff()\n",
    "train['LDFatalities'] = train.groupby('CRPS')[['LFatalities']].diff()\n",
    "\n",
    "train['LConfirmedCases1'] = train.groupby('CRPS')[['LConfirmedCases']].shift(1)\n",
    "train['LConfirmedCases2'] = train.groupby('CRPS')[['LConfirmedCases']].shift(2)\n",
    "train['LConfirmedCases3'] = train.groupby('CRPS')[['LConfirmedCases']].shift(3)\n",
    "train['LConfirmedCases4'] = train.groupby('CRPS')[['LConfirmedCases']].shift(4)\n",
    "train['LDConfirmedCases1'] = train.groupby('CRPS')[['LDConfirmedCases']].shift(1)\n",
    "train['LDConfirmedCases2'] = train.groupby('CRPS')[['LDConfirmedCases']].shift(2)\n",
    "train['LDConfirmedCases3'] = train.groupby('CRPS')[['LDConfirmedCases']].shift(3)\n",
    "train['LDConfirmedCases4'] = train.groupby('CRPS')[['LDConfirmedCases']].shift(4)\n",
    "train['LDConfirmedCasesMA'] = (\n",
    "                                      train.LDConfirmedCases + train.LDConfirmedCases1 + train.LDConfirmedCases2 + train.LDConfirmedCases3 + train.LDConfirmedCases4) / 5\n",
    "train['LDConfirmedCasesMA1'] = train.groupby('CRPS')[['LDConfirmedCasesMA']].shift(1)\n",
    "train['LDConfirmedCasesMA2'] = train.groupby('CRPS')[['LDConfirmedCasesMA']].shift(2)\n",
    "train['LDConfirmedCasesMA3'] = train.groupby('CRPS')[['LDConfirmedCasesMA']].shift(3)\n",
    "train['LDConfirmedCasesMA4'] = train.groupby('CRPS')[['LDConfirmedCasesMA']].shift(4)\n",
    "train['LConfirmedCasesMA'] = (\n",
    "                                     train.LConfirmedCases + train.LConfirmedCases1 + train.LConfirmedCases2 + train.LConfirmedCases3 + train.LConfirmedCases4) / 5\n",
    "train['LConfirmedCasesMA1'] = train.groupby('CRPS')[['LConfirmedCasesMA']].shift(1)\n",
    "train['LConfirmedCasesMA2'] = train.groupby('CRPS')[['LConfirmedCasesMA']].shift(2)\n",
    "train['LConfirmedCasesMA3'] = train.groupby('CRPS')[['LConfirmedCasesMA']].shift(3)\n",
    "train['LConfirmedCasesMA4'] = train.groupby('CRPS')[['LConfirmedCasesMA']].shift(4)\n",
    "\n",
    "train['LFatalities1'] = train.groupby('CRPS')[['LFatalities']].shift(1)\n",
    "train['LFatalities2'] = train.groupby('CRPS')[['LFatalities']].shift(2)\n",
    "train['LFatalities3'] = train.groupby('CRPS')[['LFatalities']].shift(3)\n",
    "train['LFatalities4'] = train.groupby('CRPS')[['LFatalities']].shift(4)\n",
    "train['LDFatalities1'] = train.groupby('CRPS')[['LDFatalities']].shift(1)\n",
    "train['LDFatalities2'] = train.groupby('CRPS')[['LDFatalities']].shift(2)\n",
    "train['LDFatalities3'] = train.groupby('CRPS')[['LDFatalities']].shift(3)\n",
    "train['LDFatalities4'] = train.groupby('CRPS')[['LDFatalities']].shift(4)\n",
    "train['LDFatalitiesMA'] = (\n",
    "                                  train.LDFatalities + train.LDFatalities1 + train.LDFatalities2 + train.LDFatalities3 + train.LDFatalities4) / 5\n",
    "train['LDFatalitiesMA1'] = train.groupby('CRPS')[['LDFatalitiesMA']].shift(1)\n",
    "train['LDFatalitiesMA2'] = train.groupby('CRPS')[['LDFatalitiesMA']].shift(2)\n",
    "train['LDFatalitiesMA3'] = train.groupby('CRPS')[['LDFatalitiesMA']].shift(3)\n",
    "train['LDFatalitiesMA4'] = train.groupby('CRPS')[['LDFatalitiesMA']].shift(4)\n",
    "train['LFatalitiesMA'] = (\n",
    "                                 train.LFatalities + train.LFatalities1 + train.LFatalities2 + train.LFatalities3 + train.LFatalities4) / 5\n",
    "train['LFatalitiesMA1'] = train.groupby('CRPS')[['LFatalitiesMA']].shift(1)\n",
    "train['LFatalitiesMA2'] = train.groupby('CRPS')[['LFatalitiesMA']].shift(2)\n",
    "train['LFatalitiesMA3'] = train.groupby('CRPS')[['LFatalitiesMA']].shift(3)\n",
    "train['LFatalitiesMA4'] = train.groupby('CRPS')[['LFatalitiesMA']].shift(4)\n",
    "train['serd'] = train.groupby('CRPS').cumcount()\n",
    "train.loc[train.ConfirmedCases == 0, 'days_since_confirmed'] = 0\n",
    "train.loc[train.ConfirmedCases > 0, 'days_since_confirmed'] = train[train.ConfirmedCases > 0].groupby(\n",
    "    'CRPS').cumcount()  # The first is 0 to avoid leakakge"
   ],
   "metadata": {
    "collapsed": false,
    "pycharm": {
     "name": "#%%\n"
    }
   }
  },
  {
   "cell_type": "code",
   "execution_count": null,
   "outputs": [],
   "source": [
    "lgbm_cc = LGBMRegressor(num_leaves=85, learning_rate=10 ** -1.89, n_estimators=100,\n",
    "                        min_sum_hessian_in_leaf=(10 ** -4.1), min_child_samples=2, subsample=0.97, subsample_freq=10,\n",
    "                        colsample_bytree=0.68, reg_lambda=10 ** 1.4, random_state=1234, n_jobs=4)\n",
    "lgbm_f = LGBMRegressor(num_leaves=26, learning_rate=10 ** -1.63, n_estimators=100,\n",
    "                       min_sum_hessian_in_leaf=(10 ** -4.04), min_child_samples=14, subsample=0.66, subsample_freq=5,\n",
    "                       colsample_bytree=0.8, reg_lambda=10 ** 1.92, random_state=1234, n_jobs=4)"
   ],
   "metadata": {
    "collapsed": false,
    "pycharm": {
     "name": "#%%\n"
    }
   }
  },
  {
   "cell_type": "code",
   "execution_count": null,
   "outputs": [],
   "source": [
    "oe = OrdinalEncoder()\n",
    "X = oe.fit_transform(train[['Country_Region', 'Province_State']].fillna(''))\n",
    "train['CR'] = X[:, 0]\n",
    "train['PS'] = X[:, 1]\n",
    "\n",
    "lgbm_cc.fit(train.loc[:, ['LDConfirmedCases1', 'LDConfirmedCases2', 'LDConfirmedCases3', 'LDConfirmedCases4',\n",
    "                          'LDFatalities1', 'LDFatalities2', 'LDFatalities3', 'LDFatalities4', 'days_since_confirmed',\n",
    "                          'CR', 'PS',\n",
    "                          'LDConfirmedCasesMA1', 'LDConfirmedCasesMA2', 'LDConfirmedCasesMA3', 'LDConfirmedCasesMA4',\n",
    "                          'LDFatalitiesMA1', 'LDFatalitiesMA2', 'LDFatalitiesMA3', 'LDFatalitiesMA4',\n",
    "                          'LConfirmedCases1', 'LConfirmedCases2', 'LConfirmedCases3', 'LConfirmedCases4',\n",
    "                          'LFatalities1', 'LFatalities2', 'LFatalities3', 'LFatalities4',\n",
    "                          'LConfirmedCasesMA1', 'LConfirmedCasesMA2', 'LConfirmedCasesMA3', 'LConfirmedCasesMA4',\n",
    "                          'LFatalitiesMA1', 'LFatalitiesMA2', 'LFatalitiesMA3', 'LFatalitiesMA4']],\n",
    "            train.LDConfirmedCases, categorical_feature=['CR', 'PS'])\n",
    "lgbm_f.fit(train.loc[:, ['LDConfirmedCases1', 'LDConfirmedCases2', 'LDConfirmedCases3', 'LDConfirmedCases4',\n",
    "                         'LDFatalities1', 'LDFatalities2', 'LDFatalities3', 'LDFatalities4', 'days_since_confirmed',\n",
    "                         'CR', 'PS',\n",
    "                         'LDConfirmedCasesMA1', 'LDConfirmedCasesMA2', 'LDConfirmedCasesMA3', 'LDConfirmedCasesMA4',\n",
    "                         'LDFatalitiesMA1', 'LDFatalitiesMA2', 'LDFatalitiesMA3', 'LDFatalitiesMA4',\n",
    "                         'LConfirmedCases1', 'LConfirmedCases2', 'LConfirmedCases3', 'LConfirmedCases4',\n",
    "                         'LFatalities1', 'LFatalities2', 'LFatalities3', 'LFatalities4',\n",
    "                         'LConfirmedCasesMA1', 'LConfirmedCasesMA2', 'LConfirmedCasesMA3', 'LConfirmedCasesMA4',\n",
    "                         'LFatalitiesMA1', 'LFatalitiesMA2', 'LFatalitiesMA3', 'LFatalitiesMA4', 'LConfirmedCases',\n",
    "                         'LDConfirmedCases']], train.LDFatalities, categorical_feature=['CR', 'PS'])"
   ],
   "metadata": {
    "collapsed": false,
    "pycharm": {
     "name": "#%%\n"
    }
   }
  },
  {
   "cell_type": "code",
   "execution_count": null,
   "outputs": [],
   "source": [
    "train['serd'] = train.groupby('CRPS').cumcount()\n",
    "trainpred = pd.concat((train, test[test.Date > train.Date.max()])).reset_index(drop=True)\n",
    "trainpred.sort_values(['Country_Region', 'Province_State', 'Date'], inplace=True)\n",
    "X = oe.transform(trainpred[['Country_Region', 'Province_State']].fillna(''))\n",
    "trainpred['CR'] = X[:, 0]\n",
    "trainpred['PS'] = X[:, 1]\n",
    "trainpred['serd'] = trainpred.groupby('CRPS').cumcount()\n",
    "trainpred.loc[trainpred.ConfirmedCases.isnull(), 'ConfirmedCases'] = 1  # Heuristic\n",
    "trainpred.loc[trainpred.ConfirmedCases == 0, 'days_since_confirmed'] = 0\n",
    "trainpred.loc[trainpred.ConfirmedCases > 0, 'days_since_confirmed'] = trainpred[trainpred.ConfirmedCases > 0].groupby(\n",
    "    'CRPS').cumcount()  # The first is 0 to avoid leakakge\n",
    "trainpred['LConfirmedCases'] = np.log1p(trainpred['ConfirmedCases'])\n",
    "trainpred['LFatalities'] = np.log1p(trainpred['Fatalities'])\n",
    "trainpred['LDConfirmedCases'] = trainpred.groupby('CRPS')[['LConfirmedCases']].diff()\n",
    "trainpred['LDFatalities'] = trainpred.groupby('CRPS')[['LFatalities']].diff()\n",
    "\n",
    "for serd in range(train.serd.max() + 1, trainpred.serd.max() + 1):\n",
    "    print(serd)\n",
    "    trainpred['LConfirmedCases1'] = trainpred.groupby('CRPS')[['LConfirmedCases']].shift(1)\n",
    "    trainpred['LConfirmedCases2'] = trainpred.groupby('CRPS')[['LConfirmedCases']].shift(2)\n",
    "    trainpred['LConfirmedCases3'] = trainpred.groupby('CRPS')[['LConfirmedCases']].shift(3)\n",
    "    trainpred['LConfirmedCases4'] = trainpred.groupby('CRPS')[['LConfirmedCases']].shift(4)\n",
    "    trainpred['LDConfirmedCases1'] = trainpred.groupby('CRPS')[['LDConfirmedCases']].shift(1)\n",
    "    trainpred['LDConfirmedCases2'] = trainpred.groupby('CRPS')[['LDConfirmedCases']].shift(2)\n",
    "    trainpred['LDConfirmedCases3'] = trainpred.groupby('CRPS')[['LDConfirmedCases']].shift(3)\n",
    "    trainpred['LDConfirmedCases4'] = trainpred.groupby('CRPS')[['LDConfirmedCases']].shift(4)\n",
    "    trainpred['LDConfirmedCasesMA'] = (\n",
    "                                              trainpred.LDConfirmedCases + trainpred.LDConfirmedCases1 + trainpred.LDConfirmedCases2 + trainpred.LDConfirmedCases3 + trainpred.LDConfirmedCases4) / 5\n",
    "    trainpred['LDConfirmedCasesMA1'] = trainpred.groupby('CRPS')[['LDConfirmedCasesMA']].shift(1)\n",
    "    trainpred['LDConfirmedCasesMA2'] = trainpred.groupby('CRPS')[['LDConfirmedCasesMA']].shift(2)\n",
    "    trainpred['LDConfirmedCasesMA3'] = trainpred.groupby('CRPS')[['LDConfirmedCasesMA']].shift(3)\n",
    "    trainpred['LDConfirmedCasesMA4'] = trainpred.groupby('CRPS')[['LDConfirmedCasesMA']].shift(4)\n",
    "    trainpred['LConfirmedCasesMA'] = (\n",
    "                                             trainpred.LConfirmedCases + trainpred.LConfirmedCases1 + trainpred.LConfirmedCases2 + trainpred.LConfirmedCases3 + trainpred.LConfirmedCases4) / 5\n",
    "    trainpred['LConfirmedCasesMA1'] = trainpred.groupby('CRPS')[['LConfirmedCasesMA']].shift(1)\n",
    "    trainpred['LConfirmedCasesMA2'] = trainpred.groupby('CRPS')[['LConfirmedCasesMA']].shift(2)\n",
    "    trainpred['LConfirmedCasesMA3'] = trainpred.groupby('CRPS')[['LConfirmedCasesMA']].shift(3)\n",
    "    trainpred['LConfirmedCasesMA4'] = trainpred.groupby('CRPS')[['LConfirmedCasesMA']].shift(4)\n",
    "\n",
    "    trainpred['LFatalities1'] = trainpred.groupby('CRPS')[['LFatalities']].shift(1)\n",
    "    trainpred['LFatalities2'] = trainpred.groupby('CRPS')[['LFatalities']].shift(2)\n",
    "    trainpred['LFatalities3'] = trainpred.groupby('CRPS')[['LFatalities']].shift(3)\n",
    "    trainpred['LFatalities4'] = trainpred.groupby('CRPS')[['LFatalities']].shift(4)\n",
    "    trainpred['LDFatalities1'] = trainpred.groupby('CRPS')[['LDFatalities']].shift(1)\n",
    "    trainpred['LDFatalities2'] = trainpred.groupby('CRPS')[['LDFatalities']].shift(2)\n",
    "    trainpred['LDFatalities3'] = trainpred.groupby('CRPS')[['LDFatalities']].shift(3)\n",
    "    trainpred['LDFatalities4'] = trainpred.groupby('CRPS')[['LDFatalities']].shift(4)\n",
    "    trainpred['LDFatalitiesMA'] = (\n",
    "                                          trainpred.LDFatalities + trainpred.LDFatalities1 + trainpred.LDFatalities2 + trainpred.LDFatalities3 + trainpred.LDFatalities4) / 5\n",
    "    trainpred['LDFatalitiesMA1'] = trainpred.groupby('CRPS')[['LDFatalitiesMA']].shift(1)\n",
    "    trainpred['LDFatalitiesMA2'] = trainpred.groupby('CRPS')[['LDFatalitiesMA']].shift(2)\n",
    "    trainpred['LDFatalitiesMA3'] = trainpred.groupby('CRPS')[['LDFatalitiesMA']].shift(3)\n",
    "    trainpred['LDFatalitiesMA4'] = trainpred.groupby('CRPS')[['LDFatalitiesMA']].shift(4)\n",
    "    trainpred['LFatalitiesMA'] = (\n",
    "                                         trainpred.LFatalities + trainpred.LFatalities1 + trainpred.LFatalities2 + trainpred.LFatalities3 + trainpred.LFatalities4) / 5\n",
    "    trainpred['LFatalitiesMA1'] = trainpred.groupby('CRPS')[['LFatalitiesMA']].shift(1)\n",
    "    trainpred['LFatalitiesMA2'] = trainpred.groupby('CRPS')[['LFatalitiesMA']].shift(2)\n",
    "    trainpred['LFatalitiesMA3'] = trainpred.groupby('CRPS')[['LFatalitiesMA']].shift(3)\n",
    "    trainpred['LFatalitiesMA4'] = trainpred.groupby('CRPS')[['LFatalitiesMA']].shift(4)\n",
    "    trainpred.loc[trainpred.serd == serd, 'LDConfirmedCases'] = lgbm_cc.predict(trainpred.loc[trainpred.serd == serd, [\n",
    "        'LDConfirmedCases1', 'LDConfirmedCases2', 'LDConfirmedCases3', 'LDConfirmedCases4',\n",
    "        'LDFatalities1', 'LDFatalities2', 'LDFatalities3', 'LDFatalities4', 'days_since_confirmed', 'CR', 'PS',\n",
    "        'LDConfirmedCasesMA1', 'LDConfirmedCasesMA2', 'LDConfirmedCasesMA3', 'LDConfirmedCasesMA4',\n",
    "        'LDFatalitiesMA1', 'LDFatalitiesMA2', 'LDFatalitiesMA3', 'LDFatalitiesMA4',\n",
    "        'LConfirmedCases1', 'LConfirmedCases2', 'LConfirmedCases3', 'LConfirmedCases4',\n",
    "        'LFatalities1', 'LFatalities2', 'LFatalities3', 'LFatalities4',\n",
    "        'LConfirmedCasesMA1', 'LConfirmedCasesMA2', 'LConfirmedCasesMA3', 'LConfirmedCasesMA4',\n",
    "        'LFatalitiesMA1', 'LFatalitiesMA2', 'LFatalitiesMA3', 'LFatalitiesMA4']])\n",
    "    trainpred.loc[(trainpred.serd == serd) & (trainpred.LDConfirmedCases < 0), 'LDConfirmedCases'] = 0\n",
    "    trainpred.loc[trainpred.serd == serd, 'LConfirmedCases'] = trainpred.loc[\n",
    "                                                                   trainpred.serd == serd, 'LDConfirmedCases'] + \\\n",
    "                                                               trainpred.loc[trainpred.serd == serd, 'LConfirmedCases1']\n",
    "    trainpred.loc[trainpred.serd == serd, 'ConfirmedCases'] = np.exp(\n",
    "        trainpred.loc[trainpred.serd == serd, 'LConfirmedCases']) - 1\n",
    "\n",
    "    trainpred.loc[trainpred.serd == serd, 'LDFatalities'] = lgbm_f.predict(trainpred.loc[trainpred.serd == serd, [\n",
    "        'LDConfirmedCases1', 'LDConfirmedCases2', 'LDConfirmedCases3', 'LDConfirmedCases4',\n",
    "        'LDFatalities1', 'LDFatalities2', 'LDFatalities3', 'LDFatalities4', 'days_since_confirmed', 'CR', 'PS',\n",
    "        'LDConfirmedCasesMA1', 'LDConfirmedCasesMA2', 'LDConfirmedCasesMA3', 'LDConfirmedCasesMA4',\n",
    "        'LDFatalitiesMA1', 'LDFatalitiesMA2', 'LDFatalitiesMA3', 'LDFatalitiesMA4',\n",
    "        'LConfirmedCases1', 'LConfirmedCases2', 'LConfirmedCases3', 'LConfirmedCases4',\n",
    "        'LFatalities1', 'LFatalities2', 'LFatalities3', 'LFatalities4',\n",
    "        'LConfirmedCasesMA1', 'LConfirmedCasesMA2', 'LConfirmedCasesMA3', 'LConfirmedCasesMA4',\n",
    "        'LFatalitiesMA1', 'LFatalitiesMA2', 'LFatalitiesMA3', 'LFatalitiesMA4', 'LConfirmedCases', 'LDConfirmedCases']])\n",
    "    trainpred.loc[(trainpred.serd == serd) & (trainpred.LDFatalities < 0), 'LDFatalities'] = 0\n",
    "    trainpred.loc[trainpred.serd == serd, 'LFatalities'] = trainpred.loc[trainpred.serd == serd, 'LDFatalities'] + \\\n",
    "                                                           trainpred.loc[trainpred.serd == serd, 'LFatalities1']\n",
    "    trainpred.loc[trainpred.serd == serd, 'Fatalities'] = np.exp(\n",
    "        trainpred.loc[trainpred.serd == serd, 'LFatalities']) - 1"
   ],
   "metadata": {
    "collapsed": false,
    "pycharm": {
     "name": "#%%\n"
    }
   }
  },
  {
   "cell_type": "code",
   "execution_count": null,
   "outputs": [],
   "source": [
    "trainpred.loc[(trainpred.Date <= max(test.Date)) & (trainpred.Date >= min(test.Date)), 'ForecastId'] = test.loc[:,\n",
    "                                                                                                       'ForecastId'].values\n",
    "submission = trainpred.loc[trainpred.Date >= min(test.Date)][['ForecastId', 'ConfirmedCases', 'Fatalities']]\n",
    "submission.ForecastId = submission.ForecastId.astype('int')\n",
    "submission.sort_values('ForecastId', inplace=True)\n",
    "submission.to_csv('submission.csv', index=False)"
   ],
   "metadata": {
    "collapsed": false,
    "pycharm": {
     "name": "#%%\n"
    }
   }
  }
 ],
 "metadata": {
  "kernelspec": {
   "display_name": "Python 3",
   "language": "python",
   "name": "python3"
  },
  "language_info": {
   "codemirror_mode": {
    "name": "ipython",
    "version": 3
   },
   "file_extension": ".py",
   "mimetype": "text/x-python",
   "name": "python",
   "nbconvert_exporter": "python",
   "pygments_lexer": "ipython3",
   "version": "3.7.4"
  },
  "pycharm": {
   "stem_cell": {
    "cell_type": "raw",
    "source": [],
    "metadata": {
     "collapsed": false
    }
   }
  }
 },
 "nbformat": 4,
 "nbformat_minor": 1
}