{
 "cells": [
  {
   "cell_type": "code",
   "execution_count": 61,
   "metadata": {
    "pycharm": {
     "is_executing": true
    }
   },
   "outputs": [],
   "source": [
    "import os\n",
    "import pandas as pd\n",
    "import numpy as np\n",
    "\n",
    "from keras.layers import LSTM, Dense, Input, Bidirectional\n",
    "from keras.optimizers import Adagrad, Adam\n",
    "from keras.losses import mean_squared_logarithmic_error\n",
    "from keras.utils import to_categorical\n",
    "from keras.models import load_model, Model\n",
    "from keras.preprocessing.sequence import pad_sequences\n",
    "import keras.backend as K\n"
   ]
  },
  {
   "cell_type": "code",
   "execution_count": 62,
   "metadata": {
    "pycharm": {
     "is_executing": false,
     "name": "#%%\n"
    }
   },
   "outputs": [],
   "source": [
    "DATA_DIR = 'data'\n",
    "OUTPUT_FILE = 'submission.csv'\n",
    "TRAIN_SEQ_SIZE = 62\n",
    "TEST_SEQ_SIZE = 43\n",
    "\n",
    "def load_initial_data():\n",
    "    train_path = os.path.join(DATA_DIR, 'train.csv')\n",
    "    test_path = os.path.join(DATA_DIR, 'test.csv')\n",
    "    train_data, test_data = pd.read_csv(train_path), pd.read_csv(test_path)\n",
    "    return train_data, test_data\n",
    "\n",
    "def load_extended_data():\n",
    "    train_path = os.path.join(DATA_DIR, 'extended_train.csv')\n",
    "    test_path = os.path.join(DATA_DIR, 'extended_test.csv')\n",
    "    train_data, test_data = pd.read_csv(train_path), pd.read_csv(test_path)\n",
    "    return train_data, test_data"
   ]
  },
  {
   "cell_type": "code",
   "execution_count": 63,
   "metadata": {
    "pycharm": {
     "is_executing": false,
     "name": "#%%\n"
    }
   },
   "outputs": [],
   "source": [
    "def extract_days_from_first_infection(data: pd.DataFrame, write_file=False):\n",
    "    result = list()\n",
    "    prev_region, prev_country = None, None\n",
    "    current_count = 0\n",
    "    found_case = False\n",
    "    for value in data.values:\n",
    "        if prev_country is None:\n",
    "            prev_region, prev_country = value[1], value[2]\n",
    "        if value[1] is prev_region and value[2] == prev_country:\n",
    "            if value[6] == 0:\n",
    "                result.append(current_count)\n",
    "            elif value[6] != 0 and not found_case:\n",
    "                found_case = True\n",
    "                result.append(current_count)\n",
    "            elif value[6] != 0 and found_case:\n",
    "                current_count += 1\n",
    "                result.append(current_count)\n",
    "        else:\n",
    "            found_case = False\n",
    "            current_count = 0\n",
    "            if value[6] == 0:\n",
    "                result.append(current_count)\n",
    "            elif value[6] != 0:\n",
    "                found_case = True\n",
    "                result.append(current_count)\n",
    "        prev_region, prev_country = value[1], value[2]\n",
    "    data['Days since first infection'] = result\n",
    "    if write_file:\n",
    "        data.to_csv('added_days_train.csv', index=False)\n",
    "    \n",
    "\n",
    "def add_days_from_first_infection_test(train_data: pd.DataFrame, test_data: pd.DataFrame, write_file=False):\n",
    "    max_counts = dict()\n",
    "    result = list()\n",
    "    for value in train_data.values:\n",
    "        max_counts[str(value[1]) + str(value[2])] = value[-1]\n",
    "    previous_key = None\n",
    "    current_count = 0\n",
    "    for value in test_data.values:\n",
    "        key = str(value[1]) + str(value[2])\n",
    "        if previous_key is None or key != previous_key:\n",
    "            current_count = max_counts[key] + 1\n",
    "        else:\n",
    "            current_count += 1\n",
    "        result.append(current_count)\n",
    "        previous_key = key\n",
    "    test_data['Days since first infection'] = result\n",
    "    if write_file:\n",
    "        test_data.to_csv('added_days_test.csv', index=False)"
   ]
  },
  {
   "cell_type": "code",
   "execution_count": 64,
   "metadata": {
    "pycharm": {
     "is_executing": false,
     "name": "#%%\n"
    }
   },
   "outputs": [],
   "source": [
    "def replace_missing_values_with_mean(data, write_file=False):\n",
    "    data = data.mask(data == 0).fillna(data.mean())\n",
    "    if write_file:\n",
    "        data.to_excel('extra_features_improved.xlsx', index=False)\n",
    "\n",
    "def merge_with_extra(train_df: pd.DataFrame, test_df: pd.DataFrame, extra_df: pd.DataFrame, write_file=False):\n",
    "    train_df = train_df.merge(extra_df, how='left', on='Country/Region')\n",
    "    test_df = test_df.merge(extra_df, how='left', on='Country/Region')\n",
    "    if write_file:\n",
    "        train_df.to_csv('extended_train_merged.csv', index=False)\n",
    "        test_df.to_csv('extended_test_merged.csv', index=False)\n",
    "    "
   ]
  },
  {
   "cell_type": "code",
   "execution_count": 65,
   "metadata": {
    "pycharm": {
     "is_executing": false,
     "name": "#%%\n"
    }
   },
   "outputs": [],
   "source": [
    "def root_mean_squared_log_error(y_true, y_predicted):\n",
    "    return K.sqrt(mean_squared_logarithmic_error(y_true, y_predicted))\n",
    "\n",
    "\n",
    "def build_model(train_features, train_labels, build_version=1, load_path=None):\n",
    "    if load_path:\n",
    "        model = load_model(load_path)\n",
    "    else:\n",
    "        if build_version == 1:\n",
    "            inputs = Input(shape=train_features[0].shape)\n",
    "            lstm_1 = LSTM(units=16, activation='softsign', return_sequences=True)(inputs)\n",
    "            lstm_2 = LSTM(units=8, activation='softsign', return_sequences=True)(lstm_1)\n",
    "            dense = Dense(4, activation='relu')(lstm_2)\n",
    "            output = Dense(2)(dense)\n",
    "            model = Model(inputs=inputs, outputs=output)\n",
    "            model.compile(optimizer=Adagrad(), loss=mean_squared_logarithmic_error, metrics=['acc'])\n",
    "            model.fit(train_features, train_labels, batch_size=64, epochs=10)\n",
    "            model.save('model_v1.h5')\n",
    "        else:\n",
    "            inputs = Input(shape=train_features[0].shape)\n",
    "            lstm_1 = Bidirectional(LSTM(units=32, activation='softsign', return_sequences=True))(inputs)\n",
    "            lstm_2 = Bidirectional(LSTM(units=32, activation='softsign', return_sequences=True))(lstm_1)\n",
    "            dense = Dense(4, activation='relu')(lstm_2)\n",
    "            output = Dense(2)(dense)\n",
    "            model = Model(inputs=inputs, outputs=output)\n",
    "            model.compile(optimizer=Adagrad(), loss=mean_squared_logarithmic_error, metrics=['acc'])\n",
    "            model.fit(train_features, train_labels, batch_size=64, epochs=10)\n",
    "            model.save('model_v2.h5')\n",
    "    model.summary()\n",
    "    return model"
   ]
  },
  {
   "cell_type": "code",
   "execution_count": 66,
   "metadata": {
    "pycharm": {
     "is_executing": false
    }
   },
   "outputs": [],
   "source": [
    "def get_features(df: pd.DataFrame, seq_len=TRAIN_SEQ_SIZE, for_train=True):\n",
    "    df['Province/State'] = df['Province/State'].fillna('<placeholder>')\n",
    "    groups = np.stack([group for _, group in df.groupby(['Country/Region', 'Province/State'])])\n",
    "    if for_train:\n",
    "        feature_columns = [i for i in range(3, 22) if i not in [5, 16, 17]]\n",
    "        label_columns = [16, 17]\n",
    "    else:\n",
    "        feature_columns = [i for i in range(3, 20) if i != 5]\n",
    "        label_columns = None\n",
    "    features = groups[:, :, feature_columns]\n",
    "    features = pad_sequences(features, seq_len, padding='post', truncating='post', dtype='float32')\n",
    "    if label_columns is not None:\n",
    "        labels = groups[:, :, label_columns]\n",
    "        labels = pad_sequences(labels, seq_len, padding='post', truncating='post', dtype='float32')\n",
    "        return features, labels\n",
    "    return features, None"
   ]
  },
  {
   "cell_type": "code",
   "execution_count": 67,
   "metadata": {
    "pycharm": {
     "is_executing": true,
     "name": "#%%\n"
    }
   },
   "outputs": [],
   "source": [
    "def create_output_file(model: Model, test_features):\n",
    "    predictions = model.predict(test_features)\n",
    "    print(predictions.shape)\n",
    "    with open(OUTPUT_FILE, 'w') as f:\n",
    "        f.write('ForecastId,ConfirmedCases,Fatalities\\n')\n",
    "        count = 1\n",
    "        for pred in predictions:\n",
    "            for i in range(TEST_SEQ_SIZE):\n",
    "                f.write(str(count) + ',' + str(pred[i][0]) + ',' + str(pred[i][1]) + '\\n')\n",
    "                count += 1"
   ]
  },
  {
   "cell_type": "code",
   "execution_count": 68,
   "metadata": {
    "pycharm": {
     "is_executing": false,
     "name": "#%%\n"
    }
   },
   "outputs": [
    {
     "name": "stdout",
     "output_type": "stream",
     "text": [
      "Epoch 1/10\n",
      "284/284 [==============================] - 2s 6ms/step - loss: 3.0549 - acc: 0.9947\n",
      "Epoch 2/10\n",
      "284/284 [==============================] - 1s 3ms/step - loss: 2.7551 - acc: 1.0000\n",
      "Epoch 3/10\n",
      "284/284 [==============================] - 1s 3ms/step - loss: 2.6684 - acc: 1.0000\n",
      "Epoch 4/10\n",
      "284/284 [==============================] - 1s 3ms/step - loss: 2.6875 - acc: 1.0000\n",
      "Epoch 5/10\n",
      "284/284 [==============================] - 1s 3ms/step - loss: 2.5841 - acc: 1.0000\n",
      "Epoch 6/10\n",
      "284/284 [==============================] - 1s 3ms/step - loss: 2.5592 - acc: 1.0000\n",
      "Epoch 7/10\n",
      "284/284 [==============================] - 1s 3ms/step - loss: 2.6265 - acc: 1.0000\n",
      "Epoch 8/10\n",
      "284/284 [==============================] - 1s 3ms/step - loss: 2.5317 - acc: 1.0000\n",
      "Epoch 9/10\n",
      "284/284 [==============================] - 1s 3ms/step - loss: 2.5143 - acc: 1.0000\n",
      "Epoch 10/10\n",
      "284/284 [==============================] - 1s 3ms/step - loss: 2.4976 - acc: 1.0000\n",
      "Model: \"model_5\"\n",
      "_________________________________________________________________\n",
      "Layer (type)                 Output Shape              Param #   \n",
      "=================================================================\n",
      "input_5 (InputLayer)         (None, 62, 16)            0         \n",
      "_________________________________________________________________\n",
      "bidirectional_3 (Bidirection (None, 62, 64)            12544     \n",
      "_________________________________________________________________\n",
      "bidirectional_4 (Bidirection (None, 62, 64)            24832     \n",
      "_________________________________________________________________\n",
      "dense_9 (Dense)              (None, 62, 4)             260       \n",
      "_________________________________________________________________\n",
      "dense_10 (Dense)             (None, 62, 2)             10        \n",
      "=================================================================\n",
      "Total params: 37,646\n",
      "Trainable params: 37,646\n",
      "Non-trainable params: 0\n",
      "_________________________________________________________________\n",
      "(284, 62, 2)\n"
     ]
    }
   ],
   "source": [
    "def extra_main():\n",
    "    train, test = load_extended_data()\n",
    "\n",
    "    # 62 is the sequence length for train data and 43 for the testing data\n",
    "    train_features, train_labels = get_features(train)\n",
    "    test_features, _ = get_features(test, for_train=False)\n",
    "    \n",
    "    model = build_model(train_features, train_labels, build_version=2)\n",
    "    create_output_file(model, test_features)\n",
    "\n",
    "\n",
    "extra_main()"
   ]
  },
  {
   "cell_type": "code",
   "execution_count": null,
   "metadata": {},
   "outputs": [],
   "source": []
  }
 ],
 "metadata": {
  "kernelspec": {
   "display_name": "Python 3",
   "language": "python",
   "name": "python3"
  },
  "language_info": {
   "codemirror_mode": {
    "name": "ipython",
    "version": 3
   },
   "file_extension": ".py",
   "mimetype": "text/x-python",
   "name": "python",
   "nbconvert_exporter": "python",
   "pygments_lexer": "ipython3",
   "version": "3.7.4"
  },
  "pycharm": {
   "stem_cell": {
    "cell_type": "raw",
    "metadata": {
     "collapsed": false
    },
    "source": []
   }
  }
 },
 "nbformat": 4,
 "nbformat_minor": 1
}
