{
 "cells": [
  {
   "cell_type": "code",
   "execution_count": 79,
   "metadata": {
    "pycharm": {
     "is_executing": false
    }
   },
   "outputs": [],
   "source": [
    "import os\n",
    "import pandas as pd\n",
    "import numpy as np\n",
    "\n",
    "from sklearn.metrics import mean_squared_log_error\n",
    "from keras.layers import LSTM, Dense, Input, Bidirectional\n",
    "from keras.optimizers import Adagrad, Adam\n",
    "from keras.utils import to_categorical\n",
    "from keras.models import load_model, Model\n",
    "from keras.preprocessing.sequence import pad_sequences\n"
   ]
  },
  {
   "cell_type": "code",
   "execution_count": 80,
   "metadata": {
    "pycharm": {
     "is_executing": false,
     "name": "#%%\n"
    }
   },
   "outputs": [],
   "source": [
    "DATA_DIR = 'data'\n",
    "\n",
    "def load_initial_data():\n",
    "    train_path = os.path.join(DATA_DIR, 'train.csv')\n",
    "    test_path = os.path.join(DATA_DIR, 'test.csv')\n",
    "    train_data, test_data = pd.read_csv(train_path), pd.read_csv(test_path)\n",
    "    return train_data, test_data\n",
    "\n",
    "def load_extended_data():\n",
    "    train_path = os.path.join(DATA_DIR, 'extended_train.csv')\n",
    "    test_path = os.path.join(DATA_DIR, 'extended_test.csv')\n",
    "    train_data, test_data = pd.read_csv(train_path), pd.read_csv(test_path)\n",
    "    return train_data, test_data"
   ]
  },
  {
   "cell_type": "code",
   "execution_count": 81,
   "metadata": {
    "pycharm": {
     "is_executing": false,
     "name": "#%%\n"
    }
   },
   "outputs": [],
   "source": [
    "def extract_days_from_first_infection(data: pd.DataFrame, write_file=False):\n",
    "    result = list()\n",
    "    prev_region, prev_country = None, None\n",
    "    current_count = 0\n",
    "    found_case = False\n",
    "    for value in data.values:\n",
    "        if prev_country is None:\n",
    "            prev_region, prev_country = value[1], value[2]\n",
    "        if value[1] is prev_region and value[2] == prev_country:\n",
    "            if value[6] == 0:\n",
    "                result.append(current_count)\n",
    "            elif value[6] != 0 and not found_case:\n",
    "                found_case = True\n",
    "                result.append(current_count)\n",
    "            elif value[6] != 0 and found_case:\n",
    "                current_count += 1\n",
    "                result.append(current_count)\n",
    "        else:\n",
    "            found_case = False\n",
    "            current_count = 0\n",
    "            if value[6] == 0:\n",
    "                result.append(current_count)\n",
    "            elif value[6] != 0:\n",
    "                found_case = True\n",
    "                result.append(current_count)\n",
    "        prev_region, prev_country = value[1], value[2]\n",
    "    data['Days since first infection'] = result\n",
    "    if write_file:\n",
    "        data.to_csv('added_days_train.csv', index=False)\n",
    "    \n",
    "\n",
    "def add_days_from_first_infection_test(train_data: pd.DataFrame, test_data: pd.DataFrame, write_file=False):\n",
    "    max_counts = dict()\n",
    "    result = list()\n",
    "    for value in train_data.values:\n",
    "        max_counts[str(value[1]) + str(value[2])] = value[-1]\n",
    "    previous_key = None\n",
    "    current_count = 0\n",
    "    for value in test_data.values:\n",
    "        key = str(value[1]) + str(value[2])\n",
    "        if previous_key is None or key != previous_key:\n",
    "            current_count = max_counts[key] + 1\n",
    "        else:\n",
    "            current_count += 1\n",
    "        result.append(current_count)\n",
    "        previous_key = key\n",
    "    test_data['Days since first infection'] = result\n",
    "    if write_file:\n",
    "        test_data.to_csv('added_days_test.csv', index=False)"
   ]
  },
  {
   "cell_type": "code",
   "execution_count": 82,
   "metadata": {
    "pycharm": {
     "name": "#%%\n"
    }
   },
   "outputs": [],
   "source": [
    "def replace_missing_values_with_mean(data, write_file=False):\n",
    "    data = data.mask(data == 0).fillna(data.mean())\n",
    "    if write_file:\n",
    "        data.to_excel('extra_features_improved.xlsx', index=False)\n",
    "\n",
    "def merge_with_extra(train_df: pd.DataFrame, test_df: pd.DataFrame, extra_df: pd.DataFrame, write_file=False):\n",
    "    train_df = train_df.merge(extra_df, how='left', on='Country/Region')\n",
    "    test_df = test_df.merge(extra_df, how='left', on='Country/Region')\n",
    "    if write_file:\n",
    "        train_df.to_csv('extended_train_merged.csv', index=False)\n",
    "        test_df.to_csv('extended_test_merged.csv', index=False)\n",
    "    "
   ]
  },
  {
   "cell_type": "code",
   "execution_count": 83,
   "metadata": {
    "pycharm": {
     "is_executing": false,
     "name": "#%%\n"
    }
   },
   "outputs": [],
   "source": [
    "def root_mean_squared_log_error(y_true, y_predicted):\n",
    "    return np.sqrt(mean_squared_log_error(y_true, y_predicted))\n",
    "\n",
    "\n",
    "def build_model(train_data):\n",
    "    inputs = Input(shape=train_data[0].shape)\n",
    "    lstm_1 = Bidirectional(LSTM(units=32, activation='softsign', return_sequences=True))(inputs)\n",
    "    lstm_2 = Bidirectional(LSTM(units=32, activation='softsign'))(lstm_1)\n",
    "    output_1 = Dense(1)(lstm_2)\n",
    "    output_2 = Dense(1)(lstm_2)\n",
    "    model = Model(inputs=inputs, outputs=[output_1, output_2])\n",
    "    model.compile(optimizer=Adagrad(), loss=[root_mean_squared_log_error, root_mean_squared_log_error], metrics=['acc'])\n",
    "    return model"
   ]
  },
  {
   "cell_type": "code",
   "execution_count": 133,
   "metadata": {},
   "outputs": [],
   "source": [
    "def get_features(df, maxlen=None):\n",
    "    def add_padding(data, seqlen):\n",
    "        n = data.shape[1]\n",
    "        if n < seqlen:\n",
    "            return np.concatenate((data, np.zeros((data.shape[0], seqlen - n, data.shape[2]),\n",
    "                                                  dtype=data.dtype)),\n",
    "                                  axis=1)\n",
    "        else:\n",
    "            return data\n",
    "    \n",
    "    seqlen = df.shape[-1]\n",
    "    if maxlen is not None:\n",
    "        seqlen = maxlen\n",
    "    feature_columns = [i for i in range(3, 22) if not i in [5, 16, 17]]\n",
    "    label_columns = [16, 17]\n",
    "    df['Province/State'] = df['Province/State'].fillna('<placeholder>')\n",
    "    groups = np.stack([group for _, group in df.groupby(['Country/Region', 'Province/State'])])\n",
    "    # Pad here\n",
    "    ######################\n",
    "    features = add_padding(groups[:, :, feature_columns].astype(float), seqlen)\n",
    "    labels = add_padding(groups[:, :, label_columns].astype(float), seqlen)\n",
    "    ######################\n",
    "    return features, labels"
   ]
  },
  {
   "cell_type": "code",
   "execution_count": 134,
   "metadata": {
    "pycharm": {
     "is_executing": false,
     "name": "#%%\n"
    }
   },
   "outputs": [
    {
     "data": {
      "text/plain": [
       "(array([[[ 33.        ,  65.        ,  45.64371021, ...,   2.3797546 ,\n",
       "            2.58492694, 400.15337423],\n",
       "         [ 33.        ,  65.        ,  45.64371021, ...,   2.3797546 ,\n",
       "            2.58492694, 400.15337423],\n",
       "         [ 33.        ,  65.        ,  45.64371021, ...,   2.3797546 ,\n",
       "            2.58492694, 400.15337423],\n",
       "         ...,\n",
       "         [ 33.        ,  65.        ,  45.64371021, ...,   2.3797546 ,\n",
       "            2.58492694, 400.15337423],\n",
       "         [ 33.        ,  65.        ,  45.64371021, ...,   2.3797546 ,\n",
       "            2.58492694, 400.15337423],\n",
       "         [ 33.        ,  65.        ,  45.64371021, ...,   2.3797546 ,\n",
       "            2.58492694, 400.15337423]],\n",
       " \n",
       "        [[ 41.1533    ,  20.1683    ,  27.71428571, ...,   2.3797546 ,\n",
       "           13.74473591, 400.15337423],\n",
       "         [ 41.1533    ,  20.1683    ,  27.71428571, ...,   2.3797546 ,\n",
       "           13.74473591, 400.15337423],\n",
       "         [ 41.1533    ,  20.1683    ,  27.71428571, ...,   2.3797546 ,\n",
       "           13.74473591, 400.15337423],\n",
       "         ...,\n",
       "         [ 41.1533    ,  20.1683    ,  27.71428571, ...,   2.3797546 ,\n",
       "           13.74473591, 400.15337423],\n",
       "         [ 41.1533    ,  20.1683    ,  27.71428571, ...,   2.3797546 ,\n",
       "           13.74473591, 400.15337423],\n",
       "         [ 41.1533    ,  20.1683    ,  27.71428571, ...,   2.3797546 ,\n",
       "           13.74473591, 400.15337423]],\n",
       " \n",
       "        [[ 28.0339    ,   1.6596    ,  45.64371021, ...,   2.3797546 ,\n",
       "            6.36249654, 990.        ],\n",
       "         [ 28.0339    ,   1.6596    ,  45.64371021, ...,   2.3797546 ,\n",
       "            6.36249654, 990.        ],\n",
       "         [ 28.0339    ,   1.6596    ,  45.64371021, ...,   2.3797546 ,\n",
       "            6.36249654, 990.        ],\n",
       "         ...,\n",
       "         [ 28.0339    ,   1.6596    ,  45.64371021, ...,   2.3797546 ,\n",
       "            6.36249654, 990.        ],\n",
       "         [ 28.0339    ,   1.6596    ,  45.64371021, ...,   2.3797546 ,\n",
       "            6.36249654, 990.        ],\n",
       "         [ 28.0339    ,   1.6596    ,  45.64371021, ...,   2.3797546 ,\n",
       "            6.36249654, 990.        ]],\n",
       " \n",
       "        ...,\n",
       " \n",
       "        [[  6.4238    , -66.5897    ,  47.        , ...,   2.3797546 ,\n",
       "            7.26698662, 640.        ],\n",
       "         [  6.4238    , -66.5897    ,  47.        , ...,   2.3797546 ,\n",
       "            7.26698662, 640.        ],\n",
       "         [  6.4238    , -66.5897    ,  47.        , ...,   2.3797546 ,\n",
       "            7.26698662, 640.        ],\n",
       "         ...,\n",
       "         [  6.4238    , -66.5897    ,  47.        , ...,   2.3797546 ,\n",
       "            7.26698662, 640.        ],\n",
       "         [  6.4238    , -66.5897    ,  47.        , ...,   2.3797546 ,\n",
       "            7.26698662, 640.        ],\n",
       "         [  6.4238    , -66.5897    ,  47.        , ...,   2.3797546 ,\n",
       "            7.26698662, 640.        ]],\n",
       " \n",
       "        [[ 16.        , 108.        ,  34.47826087, ...,   2.3797546 ,\n",
       "            7.2749783 , 943.        ],\n",
       "         [ 16.        , 108.        ,  34.47826087, ...,   2.3797546 ,\n",
       "            7.2749783 , 943.        ],\n",
       "         [ 16.        , 108.        ,  34.47826087, ...,   2.3797546 ,\n",
       "            7.2749783 , 943.        ],\n",
       "         ...,\n",
       "         [ 16.        , 108.        ,  34.47826087, ...,   2.3797546 ,\n",
       "            7.2749783 , 943.        ],\n",
       "         [ 16.        , 108.        ,  34.47826087, ...,   2.3797546 ,\n",
       "            7.2749783 , 943.        ],\n",
       "         [ 16.        , 108.        ,  34.47826087, ...,   2.3797546 ,\n",
       "            7.2749783 , 943.        ]],\n",
       " \n",
       "        [[-15.4167    ,  28.2833    ,  45.64371021, ...,   2.3797546 ,\n",
       "            2.09967803, 400.15337423],\n",
       "         [-15.4167    ,  28.2833    ,  45.64371021, ...,   2.3797546 ,\n",
       "            2.09967803, 400.15337423],\n",
       "         [-15.4167    ,  28.2833    ,  45.64371021, ...,   2.3797546 ,\n",
       "            2.09967803, 400.15337423],\n",
       "         ...,\n",
       "         [-15.4167    ,  28.2833    ,  45.64371021, ...,   2.3797546 ,\n",
       "            2.09967803, 400.15337423],\n",
       "         [-15.4167    ,  28.2833    ,  45.64371021, ...,   2.3797546 ,\n",
       "            2.09967803, 400.15337423],\n",
       "         [-15.4167    ,  28.2833    ,  45.64371021, ...,   2.3797546 ,\n",
       "            2.09967803, 400.15337423]]]),\n",
       " array([[[  0.,   0.],\n",
       "         [  0.,   0.],\n",
       "         [  0.,   0.],\n",
       "         ...,\n",
       "         [ 24.,   0.],\n",
       "         [ 40.,   1.],\n",
       "         [ 40.,   1.]],\n",
       " \n",
       "        [[  0.,   0.],\n",
       "         [  0.,   0.],\n",
       "         [  0.,   0.],\n",
       "         ...,\n",
       "         [ 76.,   2.],\n",
       "         [ 89.,   2.],\n",
       "         [104.,   4.]],\n",
       " \n",
       "        [[  0.,   0.],\n",
       "         [  0.,   0.],\n",
       "         [  0.,   0.],\n",
       "         ...,\n",
       "         [139.,  15.],\n",
       "         [201.,  17.],\n",
       "         [230.,  17.]],\n",
       " \n",
       "        ...,\n",
       " \n",
       "        [[  0.,   0.],\n",
       "         [  0.,   0.],\n",
       "         [  0.,   0.],\n",
       "         ...,\n",
       "         [ 70.,   0.],\n",
       "         [ 70.,   0.],\n",
       "         [ 77.,   0.]],\n",
       " \n",
       "        [[  0.,   0.],\n",
       "         [  2.,   0.],\n",
       "         [  2.,   0.],\n",
       "         ...,\n",
       "         [ 94.,   0.],\n",
       "         [113.,   0.],\n",
       "         [123.,   0.]],\n",
       " \n",
       "        [[  0.,   0.],\n",
       "         [  0.,   0.],\n",
       "         [  0.,   0.],\n",
       "         ...,\n",
       "         [  2.,   0.],\n",
       "         [  3.,   0.],\n",
       "         [  3.,   0.]]]))"
      ]
     },
     "execution_count": 134,
     "metadata": {},
     "output_type": "execute_result"
    }
   ],
   "source": [
    "train, test = load_extended_data()\n",
    "# extra_data = pd.read_excel('data/extra_features.xlsx')\n",
    "# merge_with_extra(train, test, extra_data)\n",
    "get_features(train, 62)"
   ]
  }
 ],
 "metadata": {
  "kernelspec": {
   "display_name": "Python 3",
   "language": "python",
   "name": "python3"
  },
  "language_info": {
   "codemirror_mode": {
    "name": "ipython",
    "version": 3
   },
   "file_extension": ".py",
   "mimetype": "text/x-python",
   "name": "python",
   "nbconvert_exporter": "python",
   "pygments_lexer": "ipython3",
   "version": "3.7.5"
  },
  "pycharm": {
   "stem_cell": {
    "cell_type": "raw",
    "metadata": {
     "collapsed": false
    },
    "source": []
   }
  }
 },
 "nbformat": 4,
 "nbformat_minor": 1
}
