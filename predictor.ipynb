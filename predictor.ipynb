{
 "cells": [
  {
   "cell_type": "code",
   "execution_count": 44,
   "metadata": {
    "pycharm": {
     "is_executing": false
    }
   },
   "outputs": [],
   "source": [
    "import os\n",
    "import pandas as pd\n",
    "import numpy as np\n",
    "\n",
    "from sklearn.metrics import mean_squared_log_error\n",
    "from keras.layers import LSTM, Dense, Input, Bidirectional\n",
    "from keras.optimizers import Adagrad, Adam\n",
    "from keras.utils import to_categorical\n",
    "from keras.models import load_model, Model\n"
   ]
  },
  {
   "cell_type": "code",
   "execution_count": 45,
   "metadata": {
    "pycharm": {
     "is_executing": false,
     "name": "#%%\n"
    }
   },
   "outputs": [],
   "source": [
    "DATA_DIR = 'data'\n",
    "\n",
    "def load_initial_data(path):\n",
    "    train_path = os.path.join(path, 'train.csv')\n",
    "    test_path = os.path.join(path, 'test.csv')\n",
    "    train_data, test_data = pd.read_csv(train_path), pd.read_csv(test_path)\n",
    "    return train_data, test_data"
   ]
  },
  {
   "cell_type": "code",
   "execution_count": 46,
   "metadata": {
    "pycharm": {
     "is_executing": false,
     "name": "#%%\n"
    }
   },
   "outputs": [],
   "source": [
    "def extract_days_from_first_infection(data, write_file=False):\n",
    "    result = list()\n",
    "    prev_region, prev_country = None, None\n",
    "    current_count = 0\n",
    "    found_case = False\n",
    "    for value in data.values:\n",
    "        if prev_country is None:\n",
    "            prev_region, prev_country = value[1], value[2]\n",
    "        if value[1] is prev_region and value[2] == prev_country:\n",
    "            if value[6] == 0:\n",
    "                result.append(current_count)\n",
    "            elif value[6] != 0 and not found_case:\n",
    "                found_case = True\n",
    "                result.append(current_count)\n",
    "            elif value[6] != 0 and found_case:\n",
    "                current_count += 1\n",
    "                result.append(current_count)\n",
    "        else:\n",
    "            found_case = False\n",
    "            current_count = 0\n",
    "            if value[6] == 0:\n",
    "                result.append(current_count)\n",
    "            elif value[6] != 0:\n",
    "                found_case = True\n",
    "                result.append(current_count)\n",
    "        prev_region, prev_country = value[1], value[2]\n",
    "    data['Days since first infection'] = result\n",
    "    if write_file:\n",
    "        data.to_csv('added_days_train.csv', index=False)\n",
    "    \n",
    "\n",
    "def add_days_from_first_infection_test(train_data, test_data, write_file=False):\n",
    "    max_counts = dict()\n",
    "    result = list()\n",
    "    for value in train_data.values:\n",
    "        max_counts[str(value[1]) + str(value[2])] = value[-1]\n",
    "    previous_key = None\n",
    "    current_count = 0\n",
    "    for value in test_data.values:\n",
    "        key = str(value[1]) + str(value[2])\n",
    "        if previous_key is None or key != previous_key:\n",
    "            current_count = max_counts[key] + 1\n",
    "        else:\n",
    "            current_count += 1\n",
    "        result.append(current_count)\n",
    "        previous_key = key\n",
    "    test_data['Days since first infection'] = result\n",
    "    if write_file:\n",
    "        test_data.to_csv('added_days_test.csv', index=False)"
   ]
  },
  {
   "cell_type": "code",
   "execution_count": null,
   "outputs": [],
   "source": [
    "def build_model(train_data):\n",
    "    inputs = Input(shape=train_data[0].shape)\n",
    "    lstm_1 = Bidirectional(LSTM(units=32, activation='softsign', return_sequences=True))(inputs)\n",
    "    lstm_2 = Bidirectional(LSTM(units=16, activation='softsign'))(lstm_1)\n",
    "    output = Dense(1)(lstm_2)\n",
    "    model = Model(inputs=inputs, outputs=output)\n",
    "    model.compile(optimizer=Adagrad(), loss=mean_squared_log_error, metrics=['acc'])\n",
    "    return model"
   ],
   "metadata": {
    "collapsed": false,
    "pycharm": {
     "name": "#%%\n"
    }
   }
  },
  {
   "cell_type": "code",
   "execution_count": 47,
   "metadata": {
    "pycharm": {
     "is_executing": false,
     "name": "#%%\n"
    }
   },
   "outputs": [
    {
     "name": "stdout",
     "output_type": "stream",
     "text": [
      "{'nanAfghanistan': 28, 'nanAlbania': 14, 'nanAlgeria': 27, 'nanAndorra': 21, 'nanAntigua and Barbuda': 10, 'nanArgentina': 20, 'nanArmenia': 22, 'nanAruba': 0, 'Australian Capital TerritoryAustralia': 10, 'From Diamond PrincessAustralia': 0, 'New South WalesAustralia': 57, 'Northern TerritoryAustralia': 15, 'QueenslandAustralia': 54, 'South AustraliaAustralia': 51, 'TasmaniaAustralia': 21, 'VictoriaAustralia': 57, 'Western AustraliaAustralia': 23, 'nanAustria': 27, 'nanAzerbaijan': 22, 'nanBahrain': 28, 'nanBangladesh': 15, 'nanBarbados': 6, 'nanBelarus': 24, 'nanBelgium': 48, 'nanBenin': 7, 'nanBhutan': 17, 'nanBolivia': 12, 'nanBosnia and Herzegovina': 18, 'nanBrazil': 26, 'nanBrunei': 14, 'nanBulgaria': 15, 'nanBurkina Faso': 13, 'nanCambodia': 56, 'nanCameroon': 0, 'AlbertaCanada': 17, 'British ColumbiaCanada': 55, 'Grand PrincessCanada': 10, 'ManitobaCanada': 10, 'New BrunswickCanada': 12, 'Newfoundland and LabradorCanada': 8, 'Nova ScotiaCanada': 0, 'OntarioCanada': 57, 'Prince Edward IslandCanada': 8, 'QuebecCanada': 24, 'SaskatchewanCanada': 10, 'nanCentral African Republic': 8, 'nanChile': 20, 'AnhuiChina': 61, 'BeijingChina': 61, 'ChongqingChina': 61, 'FujianChina': 61, 'GansuChina': 60, 'GuangdongChina': 61, 'GuangxiChina': 61, 'GuizhouChina': 61, 'HainanChina': 61, 'HebeiChina': 61, 'HeilongjiangChina': 0, 'HenanChina': 0, 'Hong KongChina': 60, 'HubeiChina': 61, 'HunanChina': 61, 'Inner MongoliaChina': 59, 'JiangsuChina': 61, 'JiangxiChina': 61, 'JilinChina': 60, 'LiaoningChina': 61, 'MacauChina': 61, 'NingxiaChina': 61, 'QinghaiChina': 58, 'ShaanxiChina': 60, 'ShandongChina': 61, 'ShanghaiChina': 0, 'ShanxiChina': 61, 'SichuanChina': 61, 'TianjinChina': 61, 'TibetChina': 53, 'XinjiangChina': 60, 'YunnanChina': 0, 'ZhejiangChina': 61, 'nanColombia': 17, 'nanCongo (Brazzaville)': 8, 'nanCongo (Kinshasa)': 12, 'nanCosta Rica': 17, \"nanCote d'Ivoire\": 12, 'nanCroatia': 27, 'Diamond PrincessCruise Ship': 45, 'nanCuba': 11, 'nanCyprus': 14, 'nanCzechia': 0, 'DenmarkDenmark': 25, 'Faroe IslandsDenmark': 19, 'nanDjibouti': 5, 'nanDominican Republic': 22, 'nanEcuador': 22, 'nanEgypt': 38, 'nanEquatorial Guinea': 8, 'nanEstonia': 25, 'nanEswatini': 9, 'nanEthiopia': 10, 'nanFinland': 54, 'FranceFrance': 59, 'French GuianaFrance': 16, 'French PolynesiaFrance': 0, 'GuadeloupeFrance': 10, 'MayotteFrance': 8, 'ReunionFrance': 12, 'Saint BarthelemyFrance': 19, 'St MartinFrance': 14, 'nanFrench Guiana': 0, 'nanGabon': 9, 'nanGambia, The': 0, 'nanGeorgia': 26, 'nanGermany': 56, 'nanGhana': 9, 'nanGreece': 26, 'nanGreenland': 0, 'nanGuadeloupe': 0, 'nanGuam': 0, 'nanGuatemala': 9, 'nanGuernsey': 0, 'nanGuinea': 10, 'nanGuyana': 11, 'nanHoly See': 17, 'nanHonduras': 12, 'nanHungary': 19, 'nanIceland': 24, 'nanIndia': 53, 'nanIndonesia': 21, 'nanIran': 33, 'nanIraq': 28, 'nanIreland': 23, 'nanIsrael': 31, 'nanItaly': 52, 'nanJamaica': 12, 'nanJapan': 61, 'nanJersey': 0, 'nanJordan': 20, 'nanKazakhstan': 10, 'nanKenya': 10, 'nanKorea, South': 61, 'nanKosovo': 0, 'nanKuwait': 28, 'nanKyrgyzstan': 5, 'nanLatvia': 21, 'nanLebanon': 31, 'nanLiberia': 7, 'nanLiechtenstein': 19, 'nanLithuania': 24, 'nanLuxembourg': 23, 'nanMalaysia': 58, 'nanMaldives': 15, 'nanMalta': 16, 'nanMartinique': 16, 'nanMauritania': 9, 'nanMauritius': 5, 'nanMayotte': 0, 'nanMexico': 24, 'nanMoldova': 15, 'nanMonaco': 23, 'nanMongolia': 13, 'nanMontenegro': 6, 'nanMorocco': 21, 'nanNamibia': 9, 'nanNepal': 58, 'ArubaNetherlands': 10, 'CuracaoNetherlands': 9, 'NetherlandsNetherlands': 25, 'nanNew Zealand': 24, 'nanNigeria': 24, 'nanNorth Macedonia': 26, 'nanNorway': 26, 'nanOman': 28, 'nanPakistan': 26, 'nanPanama': 13, 'nanParaguay': 15, 'nanPeru': 17, 'nanPhilippines': 53, 'nanPoland': 19, 'nanPortugal': 21, 'nanPuerto Rico': 0, 'nanQatar': 23, 'nanRepublic of the Congo': 0, 'nanReunion': 0, 'nanRomania': 26, 'nanRussia': 52, 'nanRwanda': 9, 'nanSaint Lucia': 9, 'nanSaint Vincent and the Grenadines': 9, 'nanSan Marino': 25, 'nanSaudi Arabia': 21, 'nanSenegal': 21, 'nanSerbia': 17, 'nanSeychelles': 9, 'nanSingapore': 60, 'nanSlovakia': 17, 'nanSlovenia': 18, 'nanSomalia': 7, 'nanSouth Africa': 18, 'nanSpain': 51, 'nanSri Lanka': 56, 'nanSudan': 10, 'nanSuriname': 9, 'nanSweden': 52, 'nanSwitzerland': 27, 'nanTaiwan*': 61, 'nanTanzania': 7, 'nanThailand': 61, 'nanThe Bahamas': 0, 'nanThe Gambia': 0, 'nanTogo': 17, 'nanTrinidad and Tobago': 9, 'nanTunisia': 19, 'nanTurkey': 12, 'AlabamaUS': 10, 'AlaskaUS': 10, 'ArizonaUS': 13, 'ArkansasUS': 12, 'CaliforniaUS': 13, 'ColoradoUS': 13, 'ConnecticutUS': 13, 'DelawareUS': 12, 'Diamond PrincessUS': 28, 'District of ColumbiaUS': 13, 'FloridaUS': 13, 'GeorgiaUS': 13, 'Grand PrincessUS': 16, 'GuamUS': 8, 'HawaiiUS': 13, 'IdahoUS': 10, 'IllinoisUS': 13, 'IndianaUS': 13, 'IowaUS': 13, 'KansasUS': 13, 'KentuckyUS': 13, 'LouisianaUS': 13, 'MaineUS': 10, 'MarylandUS': 13, 'MassachusettsUS': 13, 'MichiganUS': 12, 'MinnesotaUS': 13, 'MississippiUS': 11, 'MissouriUS': 13, 'MontanaUS': 12, 'NebraskaUS': 13, 'NevadaUS': 13, 'New HampshireUS': 13, 'New JerseyUS': 13, 'New MexicoUS': 12, 'New YorkUS': 13, 'North CarolinaUS': 13, 'North DakotaUS': 0, 'OhioUS': 13, 'OklahomaUS': 13, 'OregonUS': 0, 'PennsylvaniaUS': 13, 'Puerto RicoUS': 9, 'Rhode IslandUS': 13, 'South CarolinaUS': 13, 'South DakotaUS': 12, 'TennesseeUS': 13, 'TexasUS': 13, 'USUS': 0, 'United States Virgin IslandsUS': 0, 'UtahUS': 13, 'VermontUS': 13, 'Virgin IslandsUS': 9, 'VirginiaUS': 13, 'WashingtonUS': 13, 'West VirginiaUS': 6, 'WisconsinUS': 13, 'WyomingUS': 11, 'nanUkraine': 20, 'nanUnited Arab Emirates': 54, 'Cayman IslandsUnited Kingdom': 10, 'Channel IslandsUnited Kingdom': 13, 'GibraltarUnited Kingdom': 19, 'MontserratUnited Kingdom': 5, 'United KingdomUnited Kingdom': 52, 'nanUruguay': 9, 'nanUzbekistan': 8, 'nanVenezuela': 9, 'nanVietnam': 60, 'nanZambia': 5}\n"
     ]
    }
   ],
   "source": [
    "train, test = load_initial_data(DATA_DIR)\n",
    "extract_days_from_first_infection(train)\n",
    "add_days_from_first_infection_test(train, test)\n"
   ]
  }
 ],
 "metadata": {
  "kernelspec": {
   "display_name": "Python 3",
   "language": "python",
   "name": "python3"
  },
  "language_info": {
   "codemirror_mode": {
    "name": "ipython",
    "version": 3
   },
   "file_extension": ".py",
   "mimetype": "text/x-python",
   "name": "python",
   "nbconvert_exporter": "python",
   "pygments_lexer": "ipython3",
   "version": "3.7.4"
  },
  "pycharm": {
   "stem_cell": {
    "cell_type": "raw",
    "source": [],
    "metadata": {
     "collapsed": false
    }
   }
  }
 },
 "nbformat": 4,
 "nbformat_minor": 1
}